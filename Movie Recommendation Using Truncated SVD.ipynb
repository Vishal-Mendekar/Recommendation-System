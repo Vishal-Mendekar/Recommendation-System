{
 "cells": [
  {
   "cell_type": "markdown",
   "metadata": {
    "colab_type": "text",
    "id": "LkXTlOM142FH"
   },
   "source": [
    "# SGD Algorithm to predict movie ratings"
   ]
  },
  {
   "cell_type": "markdown",
   "metadata": {
    "colab_type": "text",
    "id": "5pveXiAD42FJ"
   },
   "source": [
    "<pre>\n",
    "1. Download the data from <a href='https://drive.google.com/open?id=1-1z7iDB52cB6_JpO7Dqa-eOYSs-mivpq'> here </a>\n",
    "2. the data will be of this formate, each data point is represented as a triplet of user_id, movie_id and rating \n",
    "<table>\n",
    "<tr><th>user_id</th><th>movie_id</th><th>rating</th></tr>\n",
    "<tr><td>77</td><td>236</td><td>3</td></tr>\n",
    "<tr><td>471</td><td>208</td><td>5</td></tr>\n",
    "<tr><td>641</td><td>401</td><td>4</td></tr>\n",
    "<tr><td>31</td><td>298</td><td>4</td></tr>\n",
    "<tr><td>58</td><td>504</td><td>5</td></tr>\n",
    "<tr><td>235</td><td>727</td><td>5</td></tr>\n",
    "</table>\n",
    "<h3>task 1: Predict the rating for a given (user_id, movie_id) pair</h3>\n",
    "</pre>\n",
    "<ul>\n",
    "<li><span class=\"math\">\\(\\mu\\)</span> : scalar mean rating</li>\n",
    "<li><span class=\"math\">\\(b_i\\)</span> : scalar bias term for user <span class=\"math\">\\(i\\)</span></li>\n",
    "<li><span class=\"math\">\\(c_j\\)</span> : scalar bias term for movie <span class=\"math\">\\(j\\)</span></li>\n",
    "<li><span class=\"math\">\\(u_i\\)</span> : K-dimensional vector for user <span class=\"math\">\\(i\\)</span></li>\n",
    "<li><span class=\"math\">\\(v_j\\)</span> : K-dimensional vector for movie <span class=\"math\">\\(j\\)</span></li>\n",
    "</ul>\n",
    "then the predicted rating $\\hat{y}_{ij}$ for user i, movied j pair is calcuated as $\\hat{y}_{ij} = \\mu + b_i + c_j + u_i^T v_j$ here we will be finding the best values of $b_{i}$ and $c_{j}$ using SGD algorithm with the optimization problem for N users and M movies is defined as\n",
    "\n",
    "\n",
    "$$\n",
    "L = \\min_{ b, c, \\{ u_i \\}_{i=1}^N, \\{ v_j \\}_{j=1}^M}\n",
    "\\quad\n",
    "\\alpha \\Big(\n",
    "    \\sum_{j} \\sum_{k} v_{jk}^2 \n",
    "    + \\sum_{i} \\sum_{k} u_{ik}^2 \n",
    "    + \\sum_{i} b_i^2\n",
    "    + \\sum_{j} c_i^2\n",
    "    \\Big)\n",
    "+ \\sum_{i,j \\in \\mathcal{I}^{\\text{train}}}\n",
    "    (y_{ij} - \\mu - b_i - c_j - u_i^T v_j)^2\n",
    "$$\n",
    "\n",
    "### TASK: 1\n",
    "__SGD Algorithm to minimize the loss__\n",
    "1. for each unique user initilize a bias value $B_{i}$ randomly, so if we have $N$ users $B$ will be a $N$ dimensional vector, the $i^{th}$ value of the $B$ will corresponds to the bias term for $i^{th}$ user\n",
    "\n",
    "2. for each unique movie initilize a bias value $C_{j}$ randomly, so if we have $M$ movies $C$ will be a $M$ dimensional vector, the $j^{th}$ value of the $C$ will corresponds to the bias term for $j^{th}$ movie\n",
    "\n",
    "3. Construct adjacency matrix with the given data, assumeing its  <a href='https://en.wikipedia.org/wiki/Bipartite_graph'> weighted un-directed bi-partited graph</a> and the weight of each edge is the rating given by user to the movie\n",
    "<img src='https://i.imgur.com/rmUCGMb.jpg' width=200>\n",
    "you can construct this matrix like $A[i][j]=r_{ij}$ here $i$ is user_id, $j$ is movie_id and $r_{ij}$ is rating given by user $i$ to the movie $j$\n",
    "\n",
    "4. we will Apply SVD decomposition on the Adjaceny matrix <a href='https://stackoverflow.com/a/31528944/4084039'>link1</a>, <a href='https://machinelearningmastery.com/singular-value-decomposition-for-machine-learning/'> link2</a> and get three matrices $U, \\sum, V$ such that $U \\times \\sum \\times V^T = A$, <br> \n",
    "if $A$ is of dimensions $N \\times M$ then <br>\n",
    "U is of $N \\times k$, <br>\n",
    "$\\sum$ is of $k \\times k$ and <br>\n",
    "$V$ is $M \\times k$ dimensions. <br>\n",
    "\n",
    "5. So the matrix $U$ can be represented as matrix representation of users, where each row $u_{i}$ represents a k-dimensional vector for a user\n",
    "\n",
    "6. So the matrix $V$ can be represented as matrix representation of movies, where each row $v_{j}$ represents a k-dimensional vector for a movie\n",
    "\n",
    "7. $\\mu$ represents the mean of all the rating given in the dataset\n",
    "</pre>\n",
    "\n",
    "<br>8.\n",
    "<pre>\n",
    "for each epoch:\n",
    "    for each pair of (user, movie):\n",
    "        b_i =  b_i - learning_rate * dL/db_i\n",
    "        c_j =  c_j - learning_rate * dL/dc_j\n",
    "    predict the ratings with formula</pre>$\\hat{y}_{ij} = \\mu + b_i + c_j + \\text{dot_product}(u_i , v_j) $\n",
    " <pre>\n",
    "    print the mean squared error with predicted ratings\n",
    "    </pre>\n",
    "\n",
    "9. you can choose any learning rate and regularization term in the range $10^{-3}  \\text{ to } 10^2$  <br>\n",
    "\n",
    "10. __bonus__: instead of using SVD decomposition you can learn the vectors $u_i$, $v_j$ with the help of SGD algo similar to $b_i$ and $c_j$ \n",
    "### TASK: 2\n",
    "\n",
    "As we know U is the learned matrix of user vectors, with its i-th row as the vector ui for user i. Each row of U can be seen as a \"feature vector\" for a particular user.\n",
    "\n",
    "The question we'd like to investigate is this: do our computed per-user features that are optimized for predicting movie ratings contain anything to do with gender?\n",
    "\n",
    "The provided data file <a href='https://drive.google.com/open?id=1PHFdJh_4gIPiLH5Q4UErH8GK71hTrzlY'>user_info.csv</a> contains an is_male column indicating which users in the dataset are male. Can you predict this signal given the features U?\n",
    "\n",
    "\n",
    "> __Note 1__ : there is no train test split in the data, the goal of this assignment is to give an intution about how to do matrix factorization with the help of SGD and application of truncated SVD. for better understanding of the collabarative fillerting please check netflix case study. <br><br>\n",
    "> __Note 2__ : Check if scaling of $U$, $V$ matrices improve the metric "
   ]
  },
  {
   "cell_type": "code",
   "execution_count": 1,
   "metadata": {
    "colab": {},
    "colab_type": "code",
    "id": "1GB_NZT542FL",
    "outputId": "c33c2d4a-7af2-4c2c-9249-b0167a086a50"
   },
   "outputs": [
    {
     "data": {
      "text/plain": [
       "(89992, 3)"
      ]
     },
     "execution_count": 1,
     "metadata": {},
     "output_type": "execute_result"
    }
   ],
   "source": [
    "import pandas as pd\n",
    "import tqdm\n",
    "from sklearn.utils.extmath import randomized_svd\n",
    "from sklearn.decomposition import TruncatedSVD\n",
    "from scipy.sparse import csr_matrix\n",
    "data = pd.read_csv(r'D:\\AI & ML\\Assignments\\15. Recommendation System And Truncated SVD SGD Algorithm To Predict Ratings\\Files\\ratings_train.csv')\n",
    "data.shape"
   ]
  },
  {
   "cell_type": "code",
   "execution_count": 2,
   "metadata": {
    "colab": {},
    "colab_type": "code",
    "id": "t_lHKVD342FP",
    "outputId": "2d8b1b67-4692-4deb-99be-e65f821a017b"
   },
   "outputs": [
    {
     "name": "stdout",
     "output_type": "stream",
     "text": [
      "(20, 10)\n",
      "(20, 5)\n",
      "(5,)\n",
      "(10, 5)\n"
     ]
    }
   ],
   "source": [
    "\n",
    "import numpy as np \n",
    "matrix = np.random.random((20, 10))\n",
    "print(matrix.shape)\n",
    "U, Sigma, VT = randomized_svd(matrix, n_components=5,n_iter=5, random_state=None)\n",
    "print(U.shape)\n",
    "print(Sigma.shape)\n",
    "print(VT.T.shape)"
   ]
  },
  {
   "cell_type": "code",
   "execution_count": 3,
   "metadata": {},
   "outputs": [
    {
     "name": "stdout",
     "output_type": "stream",
     "text": [
      "Number of Unique users are 943 and Number of Unique Movies are 1662\n"
     ]
    }
   ],
   "source": [
    "unique_item_size=data['item_id'].nunique()\n",
    "unique_user_size=data['user_id'].nunique()\n",
    "print(\"Number of Unique users are {0} and Number of Unique Movies are {1}\".format(unique_user_size,unique_item_size))"
   ]
  },
  {
   "cell_type": "code",
   "execution_count": 4,
   "metadata": {},
   "outputs": [
    {
     "data": {
      "text/plain": [
       "(943, 1681)"
      ]
     },
     "execution_count": 4,
     "metadata": {},
     "output_type": "execute_result"
    }
   ],
   "source": [
    "Adjacency_matrix = csr_matrix((data['rating'].values, (data['user_id'].values, data['item_id'].values)))\n",
    "Adjacency_matrix.shape"
   ]
  },
  {
   "cell_type": "code",
   "execution_count": 5,
   "metadata": {},
   "outputs": [],
   "source": [
    "user_number=943\n",
    "movie_number=1681"
   ]
  },
  {
   "cell_type": "code",
   "execution_count": 6,
   "metadata": {},
   "outputs": [
    {
     "name": "stdout",
     "output_type": "stream",
     "text": [
      "(943, 800)\n",
      "(800,)\n",
      "(1681, 800)\n"
     ]
    }
   ],
   "source": [
    "svd = TruncatedSVD(n_components=800, random_state=None)\n",
    "U=svd.fit_transform(Adjacency_matrix)\n",
    "Sigma=svd.singular_values_\n",
    "VT = svd.components_\n",
    "print(U.shape)\n",
    "print(Sigma.shape)\n",
    "print(VT.T.shape)\n",
    "#print(Sigma.shape)"
   ]
  },
  {
   "cell_type": "code",
   "execution_count": 7,
   "metadata": {},
   "outputs": [
    {
     "name": "stdout",
     "output_type": "stream",
     "text": [
      "Mean Rating Is:  3.529480398257623\n"
     ]
    }
   ],
   "source": [
    "scalar_mean_rating=(data['rating'].sum())/len(data['rating'])\n",
    "print(\"Mean Rating Is: \",scalar_mean_rating)"
   ]
  },
  {
   "cell_type": "code",
   "execution_count": 23,
   "metadata": {},
   "outputs": [
    {
     "name": "stdout",
     "output_type": "stream",
     "text": [
      "Error at Epoch 0, is 0.30324363138012267\n",
      "Error at Epoch 1, is 0.12561797811087166\n",
      "Error at Epoch 2, is 0.06858720593408818\n",
      "Error at Epoch 3, is 0.04298172149967484\n",
      "Error at Epoch 4, is 0.029496882037545247\n",
      "Error at Epoch 5, is 0.02164945411092454\n",
      "Error at Epoch 6, is 0.016738041723988902\n",
      "Error at Epoch 7, is 0.013480676857199817\n",
      "Error at Epoch 8, is 0.011213331148777329\n",
      "Error at Epoch 9, is 0.009569035695591512\n",
      "Error at Epoch 10, is 0.008334196254806196\n",
      "Error at Epoch 11, is 0.0073789020893006724\n",
      "Error at Epoch 12, is 0.006621021063060688\n",
      "Error at Epoch 13, is 0.006006788263368829\n",
      "Error at Epoch 14, is 0.005499878783812055\n",
      "Error at Epoch 15, is 0.005075035639755616\n",
      "Error at Epoch 16, is 0.004714234211414129\n",
      "Error at Epoch 17, is 0.004404305320059934\n",
      "Error at Epoch 18, is 0.004135421869171963\n",
      "Error at Epoch 19, is 0.003900110664817572\n",
      "Error at Epoch 20, is 0.0036925917392372416\n",
      "Error at Epoch 21, is 0.0035083267832201432\n",
      "Error at Epoch 22, is 0.0033437040982873985\n",
      "Error at Epoch 23, is 0.0031958145683948155\n",
      "Error at Epoch 24, is 0.003062289526075945\n",
      "Error at Epoch 25, is 0.0029411814948616544\n",
      "Error at Epoch 26, is 0.0028308751527277376\n",
      "Error at Epoch 27, is 0.002730019943568968\n",
      "Error at Epoch 28, is 0.0026374784303802947\n",
      "Error at Epoch 29, is 0.0025522862559451626\n",
      "Error at Epoch 30, is 0.00247362077383166\n",
      "Error at Epoch 31, is 0.0024007762336120436\n",
      "Error at Epoch 32, is 0.002333143975772967\n",
      "Error at Epoch 33, is 0.0022701964951420375\n",
      "Error at Epoch 34, is 0.0022114745200388346\n",
      "Error at Epoch 35, is 0.0021565764630720762\n",
      "Error at Epoch 36, is 0.002105149752298698\n",
      "Error at Epoch 37, is 0.0020568836645427162\n",
      "Error at Epoch 38, is 0.0020115033672001422\n",
      "Error at Epoch 39, is 0.00196876493866066\n"
     ]
    },
    {
     "data": {
      "image/png": "[encoded data removed]",
      "text/plain": [
       "<Figure size 432x288 with 1 Axes>"
      ]
     },
     "metadata": {
      "needs_background": "light"
     },
     "output_type": "display_data"
    }
   ],
   "source": [
    "import matplotlib.pyplot as plt\n",
    "Epoch=40\n",
    "learning_rate=0.01\n",
    "B_i=[0]*943\n",
    "C_j=[0]*1681\n",
    "MSE=[]\n",
    "Epochs=list(range(1,Epoch+1))\n",
    "for a in range(Epoch):\n",
    "    for i,j,k in zip(data['user_id'],data['item_id'],data['rating']):\n",
    "        B_i[i]=B_i[i]-learning_rate*((2*learning_rate*B_i[i])-(2*(k-scalar_mean_rating-B_i[i]-C_j[j]-np.dot(U[i],VT.T[j]))))\n",
    "        C_j[j]=C_j[j]-learning_rate*((2*learning_rate*C_j[j]) - (2*(k-scalar_mean_rating-B_i[i]-C_j[j]-np.dot(U[i],VT.T[j]))))\n",
    "    total_ratings=[]\n",
    "    for i,j,k in zip(data['user_id'],data['item_id'],data['rating']):    \n",
    "        predicted_rating=scalar_mean_rating+B_i[i]+C_j[j]+np.dot(U[i],VT.T[j])\n",
    "        error_rating=k-predicted_rating\n",
    "        total_ratings.append(error_rating**2)\n",
    "    mean_error=sum(total_ratings)/len(data)    \n",
    "    MSE.append(mean_error)\n",
    "    print(\"Error at Epoch {0}, is {1}\".format(a,mean_error))\n",
    "plt.plot(Epochs,MSE,label=\"Epoch vs Error Plot\")\n",
    "plt.legend()\n",
    "plt.xlabel(\"Epoch\")\n",
    "plt.ylabel(\"Mean Square Error\")\n",
    "plt.title(\"Epoch vs Mean Square Error Plot\")\n",
    "plt.grid()\n",
    "plt.show()"
   ]
  },
  {
   "cell_type": "markdown",
   "metadata": {},
   "source": [
    "<h3>After 5th Epoch we got the elbow structure and after epoch 10 the loss is falling for slowly </h3>"
   ]
  },
  {
   "cell_type": "markdown",
   "metadata": {},
   "source": [
    "# Observation\n",
    "1. With the increase in number of components the MSE is becoming less at earlier stages.\n",
    "2. With small number of components MSE is needs more number of Epoch to get lesser MSE.\n",
    "3. So, it's trade off between Number of Components and Epoch. \n",
    "4. I tried many number of components and would came to conclusion that it's better to run more number of Epochs rather then going with higher number of components. As it's easier to run the loop whereas more memory will be needed incase of more number of components.\n"
   ]
  },
  {
   "cell_type": "markdown",
   "metadata": {},
   "source": [
    "<h1>Task 2</h1>"
   ]
  },
  {
   "cell_type": "code",
   "execution_count": 24,
   "metadata": {},
   "outputs": [
    {
     "data": {
      "text/html": [
       "<div>\n",
       "<style scoped>\n",
       "    .dataframe tbody tr th:only-of-type {\n",
       "        vertical-align: middle;\n",
       "    }\n",
       "\n",
       "    .dataframe tbody tr th {\n",
       "        vertical-align: top;\n",
       "    }\n",
       "\n",
       "    .dataframe thead th {\n",
       "        text-align: right;\n",
       "    }\n",
       "</style>\n",
       "<table border=\"1\" class=\"dataframe\">\n",
       "  <thead>\n",
       "    <tr style=\"text-align: right;\">\n",
       "      <th></th>\n",
       "      <th>user_id</th>\n",
       "      <th>age</th>\n",
       "      <th>is_male</th>\n",
       "      <th>actual_user_id</th>\n",
       "    </tr>\n",
       "  </thead>\n",
       "  <tbody>\n",
       "    <tr>\n",
       "      <th>1</th>\n",
       "      <td>0</td>\n",
       "      <td>24</td>\n",
       "      <td>1</td>\n",
       "      <td>1</td>\n",
       "    </tr>\n",
       "    <tr>\n",
       "      <th>2</th>\n",
       "      <td>1</td>\n",
       "      <td>53</td>\n",
       "      <td>0</td>\n",
       "      <td>2</td>\n",
       "    </tr>\n",
       "    <tr>\n",
       "      <th>3</th>\n",
       "      <td>2</td>\n",
       "      <td>23</td>\n",
       "      <td>1</td>\n",
       "      <td>3</td>\n",
       "    </tr>\n",
       "    <tr>\n",
       "      <th>4</th>\n",
       "      <td>3</td>\n",
       "      <td>24</td>\n",
       "      <td>1</td>\n",
       "      <td>4</td>\n",
       "    </tr>\n",
       "    <tr>\n",
       "      <th>5</th>\n",
       "      <td>4</td>\n",
       "      <td>33</td>\n",
       "      <td>0</td>\n",
       "      <td>5</td>\n",
       "    </tr>\n",
       "  </tbody>\n",
       "</table>\n",
       "</div>"
      ],
      "text/plain": [
       "  user_id age is_male actual_user_id\n",
       "1       0  24       1              1\n",
       "2       1  53       0              2\n",
       "3       2  23       1              3\n",
       "4       3  24       1              4\n",
       "5       4  33       0              5"
      ]
     },
     "execution_count": 24,
     "metadata": {},
     "output_type": "execute_result"
    }
   ],
   "source": [
    "column=[\"user_id\", \"age\", \"is_male\", \"actual_user_id\"]\n",
    "new_data = pd.read_csv(r'D:\\AI & ML\\Assignments\\15. Recommendation System And Truncated SVD SGD Algorithm To Predict Ratings\\Files\\user_info.txt', sep=',', header=None, names=column, index_col=False)\n",
    "new_data=new_data[1:]\n",
    "new_data.head()"
   ]
  },
  {
   "cell_type": "code",
   "execution_count": 25,
   "metadata": {},
   "outputs": [
    {
     "name": "stdout",
     "output_type": "stream",
     "text": [
      "Train Size (943, 3)\n",
      "Test Size (943,)\n"
     ]
    }
   ],
   "source": [
    "X=new_data[[\"user_id\", \"age\", \"actual_user_id\"]]\n",
    "Y=new_data[\"is_male\"]\n",
    "print(\"Train Size\",X.shape)\n",
    "print(\"Test Size\",Y.shape)            "
   ]
  },
  {
   "cell_type": "code",
   "execution_count": 26,
   "metadata": {},
   "outputs": [
    {
     "name": "stdout",
     "output_type": "stream",
     "text": [
      "Performance Of Confusion Matrix at learning rate 0.001 is\n",
      "[[  0 273]\n",
      " [  0 670]]\n",
      "Performance Of Confusion Matrix at learning rate 0.1 is\n",
      "[[  0 273]\n",
      " [  0 670]]\n",
      "Performance Of Confusion Matrix at learning rate 1 is\n",
      "[[  0 273]\n",
      " [  0 670]]\n",
      "Performance Of Confusion Matrix at learning rate 10 is\n",
      "[[  0 273]\n",
      " [  0 670]]\n",
      "Performance Of Confusion Matrix at learning rate 100 is\n",
      "[[  0 273]\n",
      " [  0 670]]\n"
     ]
    }
   ],
   "source": [
    "svd = TruncatedSVD(n_components=2, random_state=None)\n",
    "U=svd.fit_transform(X)\n",
    "Sigma=svd.singular_values_\n",
    "VT = svd.components_\n",
    "import warnings\n",
    "warnings.filterwarnings(\"ignore\")\n",
    "from sklearn.metrics import confusion_matrix\n",
    "from sklearn.linear_model import LogisticRegression\n",
    "learning_rate=[0.001,0.1,1,10,100]\n",
    "for i in learning_rate:\n",
    "    classifier=LogisticRegression(C=1.0)\n",
    "    classifier.fit(U,Y)\n",
    "    print(\"Performance Of Confusion Matrix at learning rate {} is\".format(i))\n",
    "    print(confusion_matrix(Y,classifier.predict(U)))"
   ]
  },
  {
   "cell_type": "code",
   "execution_count": 27,
   "metadata": {},
   "outputs": [
    {
     "name": "stdout",
     "output_type": "stream",
     "text": [
      "Performance Of Confusion Matrix at learning rate 0.001 is\n",
      "[[  0 273]\n",
      " [  0 670]]\n",
      "Performance Of Confusion Matrix at learning rate 0.1 is\n",
      "[[  0 273]\n",
      " [  0 670]]\n",
      "Performance Of Confusion Matrix at learning rate 1 is\n",
      "[[  0 273]\n",
      " [  0 670]]\n",
      "Performance Of Confusion Matrix at learning rate 10 is\n",
      "[[  0 273]\n",
      " [  0 670]]\n",
      "Performance Of Confusion Matrix at learning rate 100 is\n",
      "[[  0 273]\n",
      " [  0 670]]\n"
     ]
    }
   ],
   "source": [
    "svd = TruncatedSVD(n_components=1, random_state=None)\n",
    "U=svd.fit_transform(X)\n",
    "Sigma=svd.singular_values_\n",
    "VT = svd.components_\n",
    "\n",
    "\n",
    "from sklearn.metrics import confusion_matrix\n",
    "from sklearn.linear_model import LogisticRegression\n",
    "learning_rate=[0.001,0.1,1,10,100]\n",
    "for i in learning_rate:\n",
    "    classifier=LogisticRegression(C=1.0)\n",
    "    classifier.fit(U,Y)\n",
    "    print(\"Performance Of Confusion Matrix at learning rate {} is\".format(i))\n",
    "    print(confusion_matrix(Y,classifier.predict(U)))"
   ]
  },
  {
   "cell_type": "code",
   "execution_count": null,
   "metadata": {},
   "outputs": [],
   "source": []
  },
  {
   "cell_type": "code",
   "execution_count": null,
   "metadata": {},
   "outputs": [],
   "source": []
  }
 ],
 "metadata": {
  "colab": {
   "name": "RecommendationSystem_TruncatedSVD Assignment Instructions.ipynb",
   "provenance": []
  },
  "kernelspec": {
   "display_name": "Python 3",
   "language": "python",
   "name": "python3"
  },
  "language_info": {
   "codemirror_mode": {
    "name": "ipython",
    "version": 3
   },
   "file_extension": ".py",
   "mimetype": "text/x-python",
   "name": "python",
   "nbconvert_exporter": "python",
   "pygments_lexer": "ipython3",
   "version": "3.6.5"
  }
 },
 "nbformat": 4,
 "nbformat_minor": 1
}
